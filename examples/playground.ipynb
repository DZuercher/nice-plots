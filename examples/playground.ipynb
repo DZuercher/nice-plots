{
 "cells": [
  {
   "cell_type": "code",
   "execution_count": null,
   "id": "initial_id",
   "metadata": {},
   "outputs": [],
   "source": []
  },
  {
   "cell_type": "code",
   "execution_count": null,
   "id": "51fd4bca038ad09a",
   "metadata": {},
   "outputs": [],
   "source": [
    "import os\n",
    "import shutil\n",
    "from pathlib import Path\n",
    "\n",
    "from niceplots.utils.codebook import setup_codebook\n",
    "from niceplots.utils.config import setup_config\n",
    "from niceplots.utils.data import setup_data\n",
    "\n",
    "example_dir = \"./\"\n",
    "config_path = Path(example_dir + \"example_config.yml\")\n",
    "codebook_path = Path(example_dir + \"example_codebook.csv\")\n",
    "prefix = Path(example_dir)\n"
   ]
  },
  {
   "cell_type": "code",
   "execution_count": null,
   "id": "84c74bb15e24ea25",
   "metadata": {},
   "outputs": [],
   "source": [
    "data_labels = (\"data1\", \"data2\", \"data3\")\n",
    "name = \"playground\"\n",
    "data_paths = (\n",
    "    Path(example_dir + \"example_data.csv\"),\n",
    "    Path(example_dir + \"example_data.csv\"),\n",
    "    Path(example_dir + \"example_data.csv\"),\n",
    ")\n",
    "\n",
    "config = setup_config(prefix, config_path, name, \"4\", \"pdf\", False)\n",
    "codebook = setup_codebook(config, codebook_path)\n",
    "data = setup_data(config, codebook, data_paths, data_labels)\n",
    "\n",
    "\n"
   ]
  },
  {
   "cell_type": "code",
   "execution_count": null,
   "id": "31923186a712d137",
   "metadata": {},
   "outputs": [],
   "source": [
    "import matplotlib.pyplot as plt\n",
    "import matplotlib.gridspec as gridspec\n",
    "import matplotlib.text as text\n",
    "import matplotlib.font_manager as font_manager\n",
    "from matplotlib.transforms import Bbox, TransformedBbox\n",
    "\n",
    "class WrapText(text.Text):\n",
    "    # Wrapper around matplotlib Text Artist which allows wrapping text to specific pixel width\n",
    "    def __init__(self,\n",
    "                 x=0, y=0, text='',\n",
    "                 width=0,\n",
    "                 **kwargs):\n",
    "        super(WrapText, self).__init__(\n",
    "                 x=x, y=y, text=text,\n",
    "                 wrap=True,\n",
    "                 **kwargs)\n",
    "        self.width = width  # in pixels\n",
    "    \n",
    "    def _get_wrap_line_width(self):\n",
    "        return self.width"
   ]
  },
  {
   "cell_type": "code",
   "execution_count": null,
   "id": "2c57451b4a05b6bb",
   "metadata": {},
   "outputs": [],
   "source": [
    "fig = plt.figure(figsize=(10, 10))\n",
    "grid = gridspec.GridSpec(nrows=10, ncols=1, left=0.2, right=0.9, top=0.9, bottom=0.0, wspace=0.0, figure=fig)\n",
    "# From figsize and grid can calculate size in inches of columns -> Can make bounding boxes for Text Artists\n",
    "\n",
    "\n",
    "font = font_manager.FontProperties(family=\"sans-serif\", style='italic', size=10) # in points\n",
    "\n",
    "# draw empty Axes\n",
    "ax1 = fig.add_subplot(grid[0], frameon=False)\n",
    "#ax1.tick_params(axis='both', which='both', bottom=False, labelbottom=False, left=False, labelleft=False)\n",
    "ax2 = fig.add_subplot(grid[1], frameon=False)\n",
    "#ax2.tick_params(axis='both', which='both', bottom=False, labelbottom=False, left=False, labelleft=False)\n",
    "\n",
    "# clipbox = TransformedBbox(Bbox([[0.0, 0.0], [0.1, 1.0]]), fig.transFigure)\n",
    "question = WrapText(x=0.0, y=0.9,\n",
    "                     text=\"Question wof wopefj  wpofej pwfej pwfejn pwfnj pw fj\"\n",
    "                     , horizontalalignment='left', fontproperties=font, width=fig.transFigure.transform((0.0, 0.1))[1] #wrap=True, clip_on=True, clip_box=clipbox\n",
    "                     )\n",
    "fig.add_artist(question)\n",
    "label = WrapText(x=0.1, y=0.9, text=\"Label\", horizontalalignment='left')\n",
    "fig.add_artist(label)\n",
    "summary = WrapText(x=0.9, y=0.9, text=\"Summary\", horizontalalignment='left')\n",
    "fig.add_artist(summary)"
   ]
  },
  {
   "cell_type": "code",
   "execution_count": null,
   "id": "549939c391e95bbb",
   "metadata": {},
   "outputs": [],
   "source": [
    "fig = plt.figure()\n",
    "\n",
    "\n",
    "top_offset = .07\n",
    "left_offset = .15\n",
    "right_offset = .2\n",
    "bottom_offset = .13\n",
    "hgap = .1\n",
    "ax_width = 1-left_offset - right_offset\n",
    "ax_height = (1-top_offset - bottom_offset - hgap)/2\n",
    "\n",
    "ax1 = fig.add_axes([left_offset, bottom_offset + ax_height + hgap, ax_width, ax_height])\n",
    "ax2 = fig.add_axes([left_offset, bottom_offset, ax_width, ax_height])"
   ]
  },
  {
   "cell_type": "code",
   "execution_count": null,
   "id": "643ca8c6fbf86f41",
   "metadata": {},
   "outputs": [],
   "source": []
  },
  {
   "cell_type": "code",
   "execution_count": null,
   "id": "bfcdaf148e776fed",
   "metadata": {},
   "outputs": [],
   "source": []
  },
  {
   "cell_type": "code",
   "execution_count": null,
   "id": "e34d57cd562612c5",
   "metadata": {},
   "outputs": [],
   "source": []
  },
  {
   "cell_type": "code",
   "execution_count": null,
   "id": "314e4e7b397482f8",
   "metadata": {},
   "outputs": [],
   "source": []
  },
  {
   "cell_type": "code",
   "execution_count": null,
   "id": "ed945fff9fb3ddc9",
   "metadata": {},
   "outputs": [],
   "source": []
  },
  {
   "cell_type": "code",
   "execution_count": null,
   "id": "2c8018d96ed4a676",
   "metadata": {},
   "outputs": [],
   "source": []
  },
  {
   "cell_type": "code",
   "execution_count": null,
   "id": "24a0e837375d9291",
   "metadata": {},
   "outputs": [],
   "source": [
    "    # cleanup\n",
    "    shutil.rmtree(f\"{prefix}/{name}\")"
   ]
  }
 ],
 "metadata": {
  "kernelspec": {
   "display_name": "nice_plots",
   "language": "python",
   "name": "nice_plots"
  },
  "language_info": {
   "codemirror_mode": {
    "name": "ipython",
    "version": 2
   },
   "file_extension": ".py",
   "mimetype": "text/x-python",
   "name": "python",
   "nbconvert_exporter": "python",
   "pygments_lexer": "ipython2",
   "version": "2.7.6"
  }
 },
 "nbformat": 4,
 "nbformat_minor": 5
}
