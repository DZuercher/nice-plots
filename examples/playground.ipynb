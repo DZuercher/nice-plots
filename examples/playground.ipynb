{
 "cells": [
  {
   "cell_type": "code",
   "execution_count": null,
   "id": "initial_id",
   "metadata": {},
   "outputs": [],
   "source": []
  },
  {
   "cell_type": "code",
   "execution_count": null,
   "id": "51fd4bca038ad09a",
   "metadata": {},
   "outputs": [],
   "source": [
    "import os\n",
    "import shutil\n",
    "from pathlib import Path\n",
    "\n",
    "from niceplots.utils.codebook import setup_codebook\n",
    "from niceplots.utils.config import setup_config\n",
    "from niceplots.utils.data import setup_data\n",
    "\n",
    "example_dir = \"./\"\n",
    "config_path = Path(example_dir + \"example_config.yml\")\n",
    "codebook_path = Path(example_dir + \"example_codebook.csv\")\n",
    "prefix = Path(example_dir)\n"
   ]
  },
  {
   "cell_type": "code",
   "execution_count": null,
   "id": "84c74bb15e24ea25",
   "metadata": {},
   "outputs": [],
   "source": [
    "data_labels = (\"data1\", \"data2\", \"data3\")\n",
    "name = \"playground\"\n",
    "data_paths = (\n",
    "    Path(example_dir + \"example_data.csv\"),\n",
    "    Path(example_dir + \"example_data.csv\"),\n",
    "    Path(example_dir + \"example_data.csv\"),\n",
    ")\n",
    "\n",
    "config = setup_config(prefix, config_path, name, \"4\", \"pdf\", False)\n",
    "codebook = setup_codebook(config, codebook_path)\n",
    "data = setup_data(config, codebook, data_paths, data_labels)\n",
    "\n",
    "\n"
   ]
  },
  {
   "cell_type": "code",
   "execution_count": null,
   "id": "63b46c0496b02c0",
   "metadata": {},
   "outputs": [],
   "source": [
    "for i, id, in enumerate(codebook.codebook.label):\n",
    "    print(i, id)"
   ]
  },
  {
   "cell_type": "code",
   "execution_count": null,
   "id": "65b05a5205973d14",
   "metadata": {},
   "outputs": [],
   "source": [
    "codebook.codebook[codebook.codebook.block == 2.0]"
   ]
  },
  {
   "cell_type": "code",
   "execution_count": null,
   "id": "31923186a712d137",
   "metadata": {},
   "outputs": [],
   "source": [
    "import matplotlib.pyplot as plt\n",
    "import matplotlib.gridspec as gridspec\n",
    "import matplotlib.text as text\n",
    "import matplotlib.font_manager as font_manager\n",
    "from matplotlib.transforms import Bbox, TransformedBbox\n",
    "\n",
    "class WrapText(text.Text):\n",
    "    # Wrapper around matplotlib Text Artist which allows wrapping text to specific pixel width\n",
    "    def __init__(self,\n",
    "                 x=0, y=0, text='',\n",
    "                 width=0,\n",
    "                 **kwargs):\n",
    "        super(WrapText, self).__init__(\n",
    "                 x=x, y=y, text=text,\n",
    "                 wrap=True,\n",
    "                 **kwargs)\n",
    "        self.width = width  # in pixels\n",
    "    \n",
    "    def _get_wrap_line_width(self):\n",
    "        return self.width"
   ]
  },
  {
   "cell_type": "code",
   "execution_count": null,
   "id": "9e78a3ccb1869226",
   "metadata": {},
   "outputs": [],
   "source": [
    "# inches to -> axis coords\n",
    "size = 1\n",
    "ax1.transAxes.inverted().transform((size * dpi, size * dpi))\n",
    "from niceplots.utils.utils import inches_to_axispixels_size\n",
    "inches_to_axispixels_size(size, fig, ax1, dim='y')"
   ]
  },
  {
   "cell_type": "code",
   "execution_count": null,
   "id": "ae59fcd6f58162bf",
   "metadata": {},
   "outputs": [],
   "source": [
    "fig.dpi"
   ]
  },
  {
   "cell_type": "code",
   "execution_count": null,
   "id": "fc3ef419497e4e3b",
   "metadata": {},
   "outputs": [],
   "source": [
    "fig = plt.figure(figsize=(100, 500))\n",
    "width_inches = 10\n",
    "width_figure = fig.dpi_scale_trans.inverted().transform((10, 0))\n",
    "fig.transFigure.transform(width_figure)"
   ]
  },
  {
   "cell_type": "code",
   "execution_count": null,
   "id": "2c57451b4a05b6bb",
   "metadata": {},
   "outputs": [],
   "source": [
    "# font sizes as absolute input in points\n",
    "\n",
    "# x axis: solved. \n",
    "# Inputs: figsize x size (only change if long text leads to too many linebreaks or labels mixinig)\n",
    "#         rel width of each column\n",
    "\n",
    "# y axis: figsize set to maximum allowed(2^16) -> will get cut anyways\n",
    "        # top=0.9 hardcoded -> makes space for legend and if there is too much space on top it will get cut away anyways\n",
    "        # figsize in y direction needs to be calculated...\n",
    "        # leaving 10% at the top for the legend: figsize_y = y_of_single_plot(based on inch size of bars) / 0.9\n",
    "fig = plt.figure(figsize=(15, 2^16))\n",
    "dpi = fig.dpi\n",
    "grid = gridspec.GridSpec(nrows=10, ncols=1, \n",
    "                         wspace=0.0, hspace=0.0,\n",
    "                         left=0.2, right=0.9, top=0.9, bottom=0.0, figure=fig)\n",
    "\n",
    "\n",
    "font = font_manager.FontProperties(\n",
    "    family=\"sans-serif\", style='italic', size=10) # in points\n",
    "\n",
    "# axes objects\n",
    "ax1 = fig.add_subplot(grid[0], frameon=True)\n",
    "#ax1.tick_params(axis='both', which='both', bottom=False, labelbottom=False, left=False, labelleft=False)\n",
    "\n",
    "# first fix axis limits and then use transforms!\n",
    "ax1.set_ylim([0.0, 1.0])\n",
    "ax1.set_xlim([0.0, 1.0])\n",
    "ax1.barh(y=0.0, width=0.1, left=0.0, height=0.6172839506172831, color=['b', 'black'])\n",
    "\n",
    "#ax2 = fig.add_subplot(grid[1], frameon=True)\n",
    "#ax2.tick_params(axis='both', which='both', bottom=False, labelbottom=False, left=False, labelleft=False)\n",
    "\n",
    "# legend\n",
    "legend = ax1.legend(loc='lower left', bbox_to_anchor=(0, 1))\n",
    "\n",
    "# text objects\n",
    "# clipbox = TransformedBbox(Bbox([[0.0, 0.0], [0.1, 1.0]]), fig.transFigure)\n",
    "question = WrapText(x=0.0, y=0.9,\n",
    "                     text=\"Question wof wopefj wpofej pwfej pwfejn pwfnj pw fj\"\n",
    "                     , horizontalalignment='left', fontproperties=font, width=fig.transFigure.transform((0.0, 0.1))[1] # , clip_on=True, clip_box=clipbox\n",
    "                     )\n",
    "fig.add_artist(question)\n",
    "label = WrapText(x=0.1, y=0.9, text=\"Label\", horizontalalignment='left')\n",
    "fig.add_artist(label)\n",
    "summary = WrapText(x=0.9, y=0.9, text=\"Summary\", horizontalalignment='left')\n",
    "fig.add_artist(summary)"
   ]
  },
  {
   "cell_type": "code",
   "execution_count": null,
   "id": "549939c391e95bbb",
   "metadata": {},
   "outputs": [],
   "source": [
    "fig = plt.figure()\n",
    "\n",
    "\n",
    "top_offset = .07\n",
    "left_offset = .15\n",
    "right_offset = .2\n",
    "bottom_offset = .13\n",
    "hgap = .1\n",
    "ax_width = 1-left_offset - right_offset\n",
    "ax_height = (1-top_offset - bottom_offset - hgap)/2\n",
    "\n",
    "ax1 = fig.add_axes([left_offset, bottom_offset + ax_height + hgap, ax_width, ax_height])\n",
    "ax2 = fig.add_axes([left_offset, bottom_offset, ax_width, ax_height])"
   ]
  },
  {
   "cell_type": "code",
   "execution_count": null,
   "id": "643ca8c6fbf86f41",
   "metadata": {},
   "outputs": [],
   "source": []
  },
  {
   "cell_type": "code",
   "execution_count": null,
   "id": "bfcdaf148e776fed",
   "metadata": {},
   "outputs": [],
   "source": []
  },
  {
   "cell_type": "code",
   "execution_count": null,
   "id": "e34d57cd562612c5",
   "metadata": {},
   "outputs": [],
   "source": []
  },
  {
   "cell_type": "code",
   "execution_count": null,
   "id": "314e4e7b397482f8",
   "metadata": {},
   "outputs": [],
   "source": []
  },
  {
   "cell_type": "code",
   "execution_count": null,
   "id": "ed945fff9fb3ddc9",
   "metadata": {},
   "outputs": [],
   "source": []
  },
  {
   "cell_type": "code",
   "execution_count": null,
   "id": "2c8018d96ed4a676",
   "metadata": {},
   "outputs": [],
   "source": []
  },
  {
   "cell_type": "code",
   "execution_count": null,
   "id": "24a0e837375d9291",
   "metadata": {},
   "outputs": [],
   "source": [
    "    # cleanup\n",
    "    shutil.rmtree(f\"{prefix}/{name}\")"
   ]
  }
 ],
 "metadata": {
  "kernelspec": {
   "display_name": "nice_plots",
   "language": "python",
   "name": "nice_plots"
  },
  "language_info": {
   "codemirror_mode": {
    "name": "ipython",
    "version": 2
   },
   "file_extension": ".py",
   "mimetype": "text/x-python",
   "name": "python",
   "nbconvert_exporter": "python",
   "pygments_lexer": "ipython2",
   "version": "2.7.6"
  }
 },
 "nbformat": 4,
 "nbformat_minor": 5
}
